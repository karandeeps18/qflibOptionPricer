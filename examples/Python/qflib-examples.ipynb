{
 "cells": [
  {
   "cell_type": "markdown",
   "id": "431f3433-79b3-4468-99a7-a8e1c771b141",
   "metadata": {
    "tags": []
   },
   "source": [
    "## qflib Library Examples"
   ]
  },
  {
   "cell_type": "code",
   "execution_count": 1,
   "id": "18bfdc25-3d7d-4508-bf2f-c798f544e650",
   "metadata": {},
   "outputs": [
    {
     "name": "stdout",
     "output_type": "stream",
     "text": [
      "qflib version: 0.11.0-debug\n",
      "pid: 8492\n"
     ]
    }
   ],
   "source": [
    "import qflib as qf\n",
    "import numpy as np\n",
    "import os\n",
    "import matplotlib.pyplot as plt\n",
    "plt.style.use('ggplot')\n",
    "\n",
    "print(\"qflib version: {0}\".format(qf.version()))\n",
    "print(\"pid: {0}\".format(os.getpid()))"
   ]
  },
  {
   "cell_type": "code",
   "execution_count": null,
   "id": "89159a01-6357-4134-86db-72162a5a286b",
   "metadata": {},
   "outputs": [],
   "source": [
    "name = \"World\"\n",
    "print(qf.sayHello(name))"
   ]
  },
  {
   "cell_type": "code",
   "execution_count": null,
   "id": "a09cb38f-fb87-4248-b93b-243dac898e01",
   "metadata": {},
   "outputs": [],
   "source": [
    "x = [1, 2, 3]\n",
    "y = [4, 5]\n",
    "op = qf.outerProd(x, y)\n",
    "print(f'x: {x}\\ny: {y}')\n",
    "print(f'outerProd:\\n{op}')"
   ]
  },
  {
   "cell_type": "code",
   "execution_count": null,
   "id": "db352eac",
   "metadata": {},
   "outputs": [],
   "source": [
    "# Matrix Echo\n",
    "m = np.array([[1, 2, 3], [4, 5, 6]])\n",
    "em = qf.echoMatrix(m)\n",
    "print(f'orig matrix:\\n{m}')\n",
    "print(f'echo matrix:\\n{em}')"
   ]
  },
  {
   "cell_type": "code",
   "execution_count": null,
   "id": "76d37afe-bf2e-473a-8b6d-52cb9134665b",
   "metadata": {},
   "outputs": [],
   "source": [
    "# Piecewise Polynomial Curves\n",
    "xbpt = np.arange(1, 6)\n",
    "yval =  np.arange(-10, 15, 5)\n",
    "pord = 1\n",
    "xval = np.arange(0.5, 5.55, 0.05)\n",
    "pval = qf.ppolyEval(xbpt, yval, pord, xval, 0)\n",
    "pder = qf.ppolyEval(xbpt, yval, pord, xval, 1)\n",
    "pint = qf.ppolyIntegral(xbpt, yval, pord, xval[0], xval)\n",
    "\n",
    "# plot\n",
    "plt.plot(xbpt, yval, color='black', marker='o')\n",
    "plt.plot(xval, pval, color='blue', label=\"values\")\n",
    "plt.plot(xval, pder, color='green', label=\"slopes\")\n",
    "plt.plot(xval, pint, color='red', label=\"integrals\")\n",
    "plt.title(\"Piecewise Polynomial Curve\")\n",
    "plt.legend(loc=\"upper left\")\n",
    "plt.xlabel('x')\n",
    "plt.ylabel('y');"
   ]
  },
  {
   "cell_type": "code",
   "execution_count": null,
   "id": "bc9e47ef-9824-4ae3-8cb9-4e99ddf8638c",
   "metadata": {},
   "outputs": [],
   "source": [
    "#Root bracketing and secant method search\n",
    "\n",
    "pcoeffs = [0, 2, 1]\n",
    "lolim = -4\n",
    "uplim = 3\n",
    "nsubs = 10\n",
    "\n",
    "brkts = qf.polyBracket(pcoeffs, lolim, uplim, nsubs)\n",
    "print(f\"Roots of polynomial: {pcoeffs}\")\n",
    "print(f\"Root brackets:\\n {brkts}\")\n",
    "\n",
    "root = qf.polySecant(pcoeffs, brkts[0, 0], brkts[0, 1], 1e-12)\n",
    "print(f\"root: {root:.4f}\")"
   ]
  },
  {
   "cell_type": "code",
   "execution_count": null,
   "id": "73072a03-bdda-49e3-a4d2-e317d9424960",
   "metadata": {},
   "outputs": [],
   "source": [
    "#ToContCmpd, FromContComp\n",
    "\n",
    "anfreq = 1\n",
    "inrate = 0.10\n",
    "ccrate = qf.toContCmpd(inrate, anfreq)\n",
    "outrate = qf.fromContCmpd(ccrate, anfreq)\n",
    "print('To and from continuous compounding')\n",
    "print(f'InRate={inrate:.4f}, CCRate={ccrate:.4f}, PerRate={outrate:.4f}')"
   ]
  },
  {
   "cell_type": "markdown",
   "id": "17b8d7be-26a6-4b09-bf80-b3e36875202c",
   "metadata": {},
   "source": [
    "### Analytic Prices"
   ]
  },
  {
   "cell_type": "code",
   "execution_count": null,
   "id": "82c85ec6-31c0-4c08-8bf0-c777687672e7",
   "metadata": {},
   "outputs": [],
   "source": [
    "#fwdprice\n",
    "fwdpx = qf.fwdPrice(spot = 100, timetoexp = 1.0, intrate = 0.02, divyield = 0.04)\n",
    "print('Forward price analytic solution')\n",
    "print(f'Price={fwdpx:.4f}')"
   ]
  },
  {
   "cell_type": "code",
   "execution_count": null,
   "id": "01ab6e19-c6cf-4b00-8098-72b6048fafee",
   "metadata": {},
   "outputs": [],
   "source": [
    "#digibs\n",
    "digi = qf.digiBS(payofftype = 1, spot = 100, timetoexp = 1.0, strike = 100,\n",
    "                  intrate = 0.02, divyield = 0.04, volatility = 0.2)[0]\n",
    "print('Digital option using Black-Scholes analytic solution')\n",
    "print(f'Price={digi:.4f}')"
   ]
  },
  {
   "cell_type": "code",
   "execution_count": null,
   "id": "a65d8d0e-56a3-4943-b418-a3e9864c14b7",
   "metadata": {},
   "outputs": [],
   "source": [
    "#eurobs\n",
    "euro = qf.euroBS(payofftype = 1, spot = 100, timetoexp = 1.0, strike = 100,\n",
    "                  intrate = 0.02, divyield = 0.04, volatility = 0.4)[0]\n",
    "print('European option using Black-Scholes analytic solution')\n",
    "print(f'Price={euro:.4f}')"
   ]
  },
  {
   "cell_type": "markdown",
   "id": "908970b5-1782-4db7-a396-1e16e3c98f55",
   "metadata": {},
   "source": [
    "### Market Objects"
   ]
  },
  {
   "cell_type": "code",
   "execution_count": null,
   "id": "dd2a9644-efe2-4025-9dd4-26c06213ee6d",
   "metadata": {},
   "outputs": [],
   "source": [
    "#yccreate\n",
    "ycname = \"USD\"\n",
    "yc = qf.ycCreate(ycname = ycname, \n",
    "                  tmats = [1/12,   1/4,  1/2,   3/4,    1,     2,    3,     4,    5,      10], \n",
    "                  vals =  [0.01,  0.02, 0.03, 0.035, 0.04, 0.045, 0.05, 0.055, 0.0575, 0.065],\n",
    "                  valtype = 0)\n",
    "print(f'Created yield curve: {yc}')"
   ]
  },
  {
   "cell_type": "code",
   "execution_count": null,
   "id": "bdb792da-f544-40db-98f0-50b9abacabda",
   "metadata": {},
   "outputs": [],
   "source": [
    "#discount, spotrate, fwdrate\n",
    "tmat = 2.0 # years\n",
    "tfix = 1.0 # years\n",
    "df = qf.discount(ycname = yc, tmat = tmat)\n",
    "spotrate = qf.spotRate(ycname = yc, tmat = tmat)\n",
    "fwdrate = qf.fwdRate(ycname = yc, tmat1 = tfix, tmat2 = tmat)\n",
    "print(f'Maturity={tmat} years, DF={df:.4f}, SpotRate={spotrate:.4f}, FwdRate={fwdrate:.4f}')"
   ]
  },
  {
   "cell_type": "code",
   "execution_count": null,
   "id": "4014caa9-634b-4e7b-87db-8859d0b1a332",
   "metadata": {},
   "outputs": [],
   "source": [
    "#create a 2 year weekly array\n",
    "tweekly = [i / 52.0 for i in range(1, 105)]\n",
    "spotRates = [qf.spotRate(yc, tmat) for tmat in tweekly] \n",
    "fwdRates = [qf.fwdRate(yc, tmat1, tmat2 ) for tmat1, tmat2 in zip(tweekly[:-1], tweekly[1:])]\n",
    "fwdRates.insert(0, qf.fwdRate(yc, 0, tweekly[0]))"
   ]
  },
  {
   "cell_type": "code",
   "execution_count": null,
   "id": "975d8959-d230-41d3-bfed-bf57eb29df84",
   "metadata": {},
   "outputs": [],
   "source": [
    "# plot\n",
    "plt.plot(tweekly, spotRates, color='black', label=\"spot rate\")\n",
    "plt.plot(tweekly, fwdRates, color='blue', label=\"fwd rate\")\n",
    "plt.title(\"Spot and Forward Rates\")\n",
    "plt.legend(loc=\"upper left\")\n",
    "plt.xlabel('maturity (yr)')\n",
    "plt.ylabel('rate');"
   ]
  },
  {
   "cell_type": "code",
   "execution_count": null,
   "id": "87e61052-5be8-4255-a6ff-309414e84ea6",
   "metadata": {},
   "outputs": [],
   "source": [
    "# list market contents\n",
    "print(qf.mktList())"
   ]
  },
  {
   "cell_type": "markdown",
   "id": "20557f86-bec2-44c6-bce5-413b60955033",
   "metadata": {},
   "source": [
    "### Monte Carlo"
   ]
  },
  {
   "cell_type": "code",
   "execution_count": null,
   "id": "61b6424b-6c04-4b36-85c8-4143040c5415",
   "metadata": {},
   "outputs": [],
   "source": [
    "# European Option\n",
    "\n",
    "mcpars0 = {'URNGTYPE': 'MT19937', 'PATHGENTYPE': 'EULER'}\n",
    "npaths0 = 200000\n",
    "euromc0 = qf.euroBSMC(payofftype = 1, strike = 100, timetoexp = 1.0, spot = 100,\n",
    "                       discountcrv =  yc, divyield = 0.02, volatility = 0.4,\n",
    "                       mcparams = mcpars0, npaths = npaths0)\n",
    "print(f'URNGTYPE={mcpars0[\"URNGTYPE\"]} PATHGENTYPE={mcpars0[\"PATHGENTYPE\"]} NPATHS={npaths0}')\n",
    "print(f'Price={euromc0['Mean']:0.4f}  StdErr={euromc0['StdErr']:0.4f}')"
   ]
  },
  {
   "cell_type": "code",
   "execution_count": null,
   "id": "a30435e5-4411-467c-b8b4-116ee16bc5a8",
   "metadata": {},
   "outputs": [],
   "source": [
    "# convergence analysis\n",
    "npaths = [ 100 * 2 ** i for i in range(12)]\n",
    "\n",
    "mcprices = []\n",
    "stderrs = []\n",
    "for i in range(len(npaths)):\n",
    "    mcres = qf.euroBSMC(payofftype = 1, strike = 100, timetoexp = 1.0, spot = 100,\n",
    "                       discountcrv =  yc, divyield = 0.02, volatility = 0.4,\n",
    "                       mcparams = mcpars0, npaths = npaths[i])\n",
    "    mcprices.append(mcres[\"Mean\"])\n",
    "    stderrs.append(mcres[\"StdErr\"])\n",
    "\n",
    "bsprice = qf.euroBS(payofftype = 1, spot = 100, timetoexp = 1.0, strike = 100,\n",
    "                  intrate = 0.04, divyield = 0.02, volatility = 0.4)[0]\n",
    "\n",
    "# plot prices and errors\n",
    "plt.figure(figsize=(10, 4))\n",
    "\n",
    "plt.subplot(1, 2, 1)\n",
    "plt.plot(npaths, mcprices, color='black', marker='o')\n",
    "plt.axhline(y=bsprice, color='blue', linestyle='--')\n",
    "plt.xscale('log')\n",
    "plt.title(\"MC Price\")\n",
    "plt.xlabel('Num Paths')\n",
    "plt.ylabel('Price')\n",
    "\n",
    "plt.subplot(1, 2, 2)\n",
    "plt.plot(npaths, stderrs, color='black', marker='o')\n",
    "#plt.axhline(y=bsprice, color='blue', linestyle='--')\n",
    "plt.xscale('log')\n",
    "plt.title(\"MC Error\")\n",
    "plt.xlabel('Num Paths')\n",
    "plt.ylabel('Std Error');\n"
   ]
  },
  {
   "cell_type": "code",
   "execution_count": null,
   "id": "01ee25a4-045b-4816-985d-0800d7928453",
   "metadata": {},
   "outputs": [],
   "source": [
    "# Asian Basket Option\n",
    "\n",
    "fixtimes = [  0.5,   1.0,   1.5,   2.0]\n",
    "assqts   = [  0.2,   0.2,   0.2,   0.2,   0.2]\n",
    "spots    = [100.0, 100.0, 100.0, 100.0, 100.0]\n",
    "divylds  = [ 0.02,  0.02,  0.02,  0.02,  0.02]\n",
    "vols     = [ 0.30,  0.30,  0.30,  0.30,  0.30]\n",
    "correls  = np.array([\n",
    "     [1.0,  0.5,  0.7, 0.6, 0.6],\n",
    "     [0.5,  1.0,  0.8, 0.7, 0.5],\n",
    "     [0.7,  0.8,  1.0, 0.7, 0.5], \n",
    "     [0.6,  0.7,  0.7, 1.0, 0.6],\n",
    "     [0.6,  0.5,  0.5, 0.6, 1.0]])\n",
    "\n",
    "mcpars1 = {'URNGTYPE': 'MT19937', 'PATHGENTYPE': 'EULER'}\n",
    "npaths1 = 200000\n",
    "asianmc = qf.asianBasketBSMC(payofftype = 1, strike = 100, fixtimes = fixtimes, \n",
    "                             assetquantities = assqts, spots = spots,\n",
    "                             discountcrv =  yc, divyields = divylds, \n",
    "                             volatilities= vols, correlmat = correls,\n",
    "                             mcparams = mcpars1, npaths = npaths1)\n",
    "print(f'URNGTYPE={mcpars1[\"URNGTYPE\"]} PATHGENTYPE={mcpars1[\"PATHGENTYPE\"]} NPATHS={npaths1}')\n",
    "print(f'Price={asianmc['Mean']:0.4f}  StdErr={asianmc['StdErr']:0.4f}')\n"
   ]
  },
  {
   "cell_type": "markdown",
   "id": "7e8f610c-5508-4e07-93b9-4378e66e4f68",
   "metadata": {},
   "source": [
    "### PDE"
   ]
  },
  {
   "cell_type": "code",
   "execution_count": null,
   "id": "63100689-1611-4bfe-8be4-1a4757de4454",
   "metadata": {},
   "outputs": [],
   "source": [
    "# European option\n",
    "\n",
    "ntimesteps = 50\n",
    "nspotnodes = 50\n",
    "nstdevs = 4\n",
    "\n",
    "pdepars0 = {'NTIMESTEPS': ntimesteps, 'NSPOTNODES': nspotnodes, 'NSTDDEVS': nstdevs, 'THETA': 0}\n",
    "\n",
    "europde0 = qf.euroBSPDE(payofftype = 1, strike = 100, timetoexp = 1.0, spot = 100,\n",
    "                        discountcrv =  yc, divyield = 0.02, volatility = 0.4, pdeparams = pdepars0)\n",
    "\n",
    "print(f'NTIMESTEPS={pdepars0[\"NTIMESTEPS\"]} NSPOTNODES={pdepars0[\"NSPOTNODES\"]} NSTDDEVS={pdepars0[\"NSTDDEVS\"]} THETA={pdepars0[\"THETA\"]}')\n",
    "print(f'Price={europde0[\"Price\"]:0.4f}')\n",
    "\n",
    "pdepars1 = {'NTIMESTEPS': ntimesteps, 'NSPOTNODES': nspotnodes, 'NSTDDEVS': nstdevs, 'THETA': 1}\n",
    "\n",
    "europde1 = qf.euroBSPDE(payofftype = 1, strike = 100, timetoexp = 1.0, spot = 100,\n",
    "                         discountcrv =  yc, divyield = 0.02, volatility = 0.4, pdeparams = pdepars1)\n",
    "\n",
    "print(f'NTIMESTEPS={pdepars1[\"NTIMESTEPS\"]} NSPOTNODES={pdepars1[\"NSPOTNODES\"]} NSTDDEVS={pdepars1[\"NSTDDEVS\"]} THETA={pdepars1[\"THETA\"]}')\n",
    "print(f'Price={europde1[\"Price\"]:0.4f}')\n",
    "\n",
    "pdepars2 = {'NTIMESTEPS': ntimesteps, 'NSPOTNODES': nspotnodes, 'NSTDDEVS': nstdevs, 'THETA': 0.5}\n",
    "\n",
    "europde2 = qf.euroBSPDE(payofftype = 1, strike = 100, timetoexp = 1.0, spot = 100,\n",
    "                         discountcrv =  yc, divyield = 0.02, volatility = 0.4, pdeparams = pdepars2)\n",
    "\n",
    "print(f'NTIMESTEPS={pdepars2[\"NTIMESTEPS\"]} NSPOTNODES={pdepars1[\"NSPOTNODES\"]} NSTDDEVS={pdepars2[\"NSTDDEVS\"]} THETA={pdepars2[\"THETA\"]}')\n",
    "print(f'Price={europde2[\"Price\"]:0.4f}')\n",
    "\n",
    "# exact price\n",
    "eurobs = qf.euroBS(payofftype = 1, strike = 100, timetoexp = 1.0, spot = 100,\n",
    "                   intrate = qf.spotRate(yc, 1.0), divyield = 0.02, volatility = 0.4)[0]\n",
    "\n",
    "print(f'BSPrice={eurobs:0.4f}')\n"
   ]
  },
  {
   "cell_type": "code",
   "execution_count": null,
   "id": "6abc6bdb-ff37-46a5-b67d-1d33247930ca",
   "metadata": {},
   "outputs": [],
   "source": [
    "# convergence analysis\n",
    "\n",
    "refines = [i for i in range(0, 6)]\n",
    "euroerrs = []\n",
    "pdepars = {'NTIMESTEPS': 100, 'NSPOTNODES': 100, 'NSTDDEVS': 4, 'THETA': 1}\n",
    "\n",
    "for i in refines:\n",
    "    europx = qf.euroBSPDE(payofftype = 1, strike = 100, timetoexp = 1.0, spot = 100,\n",
    "                          discountcrv = yc, divyield = 0.02, volatility = 0.4, pdeparams = pdepars)\n",
    "    euroerrs.append(europx['Price'] - eurobs)\n",
    "    pdepars['NTIMESTEPS'] = 2 * pdepars['NTIMESTEPS']\n",
    "    pdepars['NSPOTNODES'] = 2 * pdepars['NSPOTNODES']\n",
    "\n",
    "# quadratic and linear errors\n",
    "quaderrs = [euroerrs[0]]\n",
    "linerrs = [euroerrs[0]]\n",
    "\n",
    "for i in refines[1:]:\n",
    "    quaderrs.append(quaderrs[i - 1] / 4)\n",
    "    linerrs.append(0.0001 + linerrs[i - 1] / 2)\n"
   ]
  },
  {
   "cell_type": "code",
   "execution_count": null,
   "id": "ee774009-dc22-448c-bfe1-50dc38691328",
   "metadata": {},
   "outputs": [],
   "source": [
    "# plot errors\n",
    "plt.figure(figsize=(10, 4))\n",
    "\n",
    "plt.subplot(1, 2, 1)\n",
    "plt.plot(refines, euroerrs, color='red', marker='o', label='PDE Error')\n",
    "plt.plot(refines, quaderrs, color='blue', marker='o', label='Quadratic')\n",
    "plt.plot(refines, linerrs, color='black', marker='o', label='Linear')\n",
    "plt.title(\"European PDE Error Scaling\")\n",
    "plt.xlabel('Refinement')\n",
    "plt.ylabel('Error')\n",
    "plt.legend()"
   ]
  },
  {
   "cell_type": "code",
   "execution_count": null,
   "id": "17143c9b-e004-46c5-b90b-5307044ecc14",
   "metadata": {},
   "outputs": [],
   "source": [
    "# American option\n",
    "\n",
    "print('American option using Black-Scholes PDE')\n",
    "pdeparams = {'NTIMESTEPS': 800, 'NSPOTNODES': 800, 'NSTDDEVS': 4, 'THETA': 0.5}\n",
    "paytype = 1\n",
    "opttype = 'call' if paytype == 1 else 'put'\n",
    "\n",
    "amerpde = qf.amerBSPDE(payofftype = paytype, strike = 100, timetoexp = 1.0, spot = 100,\n",
    "                        discountcrv =  yc, divyield = 0.02, volatility = 0.4, pdeparams = pdeparams)\n",
    "\n",
    "print(f'NTIMESTEPS={pdeparams[\"NTIMESTEPS\"]} NSPOTNODES={pdeparams[\"NSPOTNODES\"]} NSTDDEVS={pdeparams[\"NSTDDEVS\"]} THETA={pdeparams[\"THETA\"]}\\n')\n",
    "print(f'American {opttype} option:')\n",
    "print(f'Price={amerpde[\"Price\"]:0.4f}')\n",
    "\n",
    "# compare with corresponding European\n",
    "europde = qf.euroBSPDE(payofftype = paytype, strike = 100, timetoexp = 1.0, spot = 100,\n",
    "                        discountcrv =  yc, divyield = 0.02, volatility = 0.4, pdeparams = pdeparams)\n",
    "print(f'European {opttype} option:')\n",
    "print(f'Price={europde[\"Price\"]:0.4f}')"
   ]
  },
  {
   "cell_type": "code",
   "execution_count": null,
   "id": "10b243f5-862a-4b68-ac26-375dfa800e8e",
   "metadata": {},
   "outputs": [],
   "source": [
    "# Plot the price grid\n",
    "amergrid = qf.amerBSPDE(payofftype = paytype, strike = 100, timetoexp = 1.0, spot = 100,\n",
    "                        discountcrv =  yc, divyield = 0.02, volatility = 0.4, pdeparams = pdeparams, allresults=True)\n",
    "\n",
    "fig = plt.figure(figsize=(10,10))\n",
    "ax = fig.add_subplot(111, projection='3d')\n",
    "ax.set_box_aspect(None, zoom=0.90)\n",
    "times = amergrid['Times']\n",
    "spots = amergrid['Spots']\n",
    "vals = amergrid['Values']\n",
    "spots, times = np.meshgrid(spots,times)\n",
    "ax.plot_surface(spots, times, vals, color=\"lightblue\")\n",
    "ax.set_xlabel('spot')\n",
    "ax.set_ylabel('time')\n",
    "ax.set_zlabel('price');\n"
   ]
  },
  {
   "cell_type": "markdown",
   "id": "051854ed",
   "metadata": {},
   "source": [
    "## Quanto European Option"
   ]
  },
  {
   "cell_type": "code",
   "execution_count": 2,
   "id": "918e6a52",
   "metadata": {},
   "outputs": [
    {
     "ename": "NameError",
     "evalue": "name '_qEuroBS' is not defined",
     "output_type": "error",
     "traceback": [
      "\u001b[31m---------------------------------------------------------------------------\u001b[39m",
      "\u001b[31mNameError\u001b[39m                                 Traceback (most recent call last)",
      "\u001b[36mCell\u001b[39m\u001b[36m \u001b[39m\u001b[32mIn[2]\u001b[39m\u001b[32m, line 28\u001b[39m\n\u001b[32m     25\u001b[39m rho = \u001b[32m0.5\u001b[39m                 \u001b[38;5;66;03m# Correlation\u001b[39;00m\n\u001b[32m     27\u001b[39m \u001b[38;5;66;03m# === Step 3: Analytical Pricing ===\u001b[39;00m\n\u001b[32m---> \u001b[39m\u001b[32m28\u001b[39m analytical_result = \u001b[43mqf\u001b[49m\u001b[43m.\u001b[49m\u001b[43mqEuroBS\u001b[49m\u001b[43m(\u001b[49m\n\u001b[32m     29\u001b[39m \u001b[43m    \u001b[49m\u001b[43mpayoff_type\u001b[49m\u001b[43m,\u001b[49m\u001b[43m \u001b[49m\u001b[43mspot\u001b[49m\u001b[43m,\u001b[49m\u001b[43m \u001b[49m\u001b[43mstrike\u001b[49m\u001b[43m,\u001b[49m\u001b[43m \u001b[49m\u001b[43mtime_to_exp\u001b[49m\u001b[43m,\u001b[49m\n\u001b[32m     30\u001b[39m \u001b[43m    \u001b[49m\u001b[43mrd\u001b[49m\u001b[43m,\u001b[49m\u001b[43m \u001b[49m\u001b[43mrf\u001b[49m\u001b[43m,\u001b[49m\u001b[43m \u001b[49m\u001b[43mq\u001b[49m\u001b[43m,\u001b[49m\u001b[43m \u001b[49m\u001b[43msigma_s\u001b[49m\u001b[43m,\u001b[49m\u001b[43m \u001b[49m\u001b[43msigma_q\u001b[49m\u001b[43m,\u001b[49m\u001b[43m \u001b[49m\u001b[43mrho\u001b[49m\n\u001b[32m     31\u001b[39m \u001b[43m)\u001b[49m\n\u001b[32m     33\u001b[39m \u001b[38;5;66;03m# === Step 4: Monte Carlo Parameters ===\u001b[39;00m\n\u001b[32m     34\u001b[39m mc_params = {\n\u001b[32m     35\u001b[39m     \u001b[33m\"\u001b[39m\u001b[33mPATHGENTYPE\u001b[39m\u001b[33m\"\u001b[39m: \u001b[33m\"\u001b[39m\u001b[33mEULER\u001b[39m\u001b[33m\"\u001b[39m,\n\u001b[32m     36\u001b[39m     \u001b[33m\"\u001b[39m\u001b[33mURNGTYPE\u001b[39m\u001b[33m\"\u001b[39m: \u001b[33m\"\u001b[39m\u001b[33mMT19937\u001b[39m\u001b[33m\"\u001b[39m\n\u001b[32m     37\u001b[39m }\n",
      "\u001b[36mFile \u001b[39m\u001b[32mc:\\Users\\karan\\anaconda3\\envs\\qfgb\\Lib\\site-packages\\qflib\\__init__.py:481\u001b[39m, in \u001b[36mqEuroBS\u001b[39m\u001b[34m(payoffType, spot, strike, timeToExp, discRate, growthRate, divYield, assetVol, fxVol, correl)\u001b[39m\n\u001b[32m    460\u001b[39m \u001b[38;5;28;01mdef\u001b[39;00m\u001b[38;5;250m \u001b[39m\u001b[34mqEuroBS\u001b[39m(payoffType, spot, strike, timeToExp,\n\u001b[32m    461\u001b[39m             discRate, growthRate, divYield,\n\u001b[32m    462\u001b[39m             assetVol, fxVol, correl):\n\u001b[32m    463\u001b[39m \u001b[38;5;250m    \u001b[39m\u001b[33;03m\"\"\"\u001b[39;00m\n\u001b[32m    464\u001b[39m \u001b[33;03m    Price and Greeks of a European quanto option in the Black-Scholes model.\u001b[39;00m\n\u001b[32m    465\u001b[39m \n\u001b[32m   (...)\u001b[39m\u001b[32m    479\u001b[39m \u001b[33;03m    - A list [price, delta, gamma, theta, vega]\u001b[39;00m\n\u001b[32m    480\u001b[39m \u001b[33;03m    \"\"\"\u001b[39;00m\n\u001b[32m--> \u001b[39m\u001b[32m481\u001b[39m     \u001b[38;5;28;01mreturn\u001b[39;00m \u001b[43m_qEuroBS\u001b[49m(payoffType, spot, strike, timeToExp,\n\u001b[32m    482\u001b[39m                     discRate, growthRate, divYield,\n\u001b[32m    483\u001b[39m                     assetVol, fxVol, correl)\n",
      "\u001b[31mNameError\u001b[39m: name '_qEuroBS' is not defined"
     ]
    }
   ],
   "source": [
    "import qflib as qf\n",
    "import numpy as np\n",
    "\n",
    "# === Step 1: Yield Curve Setup ===\n",
    "# Domestic curve (USD)\n",
    "usd_maturities = [0.25, 0.5, 1.0]\n",
    "usd_rates = [0.03, 0.032, 0.035]\n",
    "qf.ycCreate(\"USD\", usd_maturities, usd_rates, 0)\n",
    "\n",
    "# Foreign curve (GBP or local market)\n",
    "gbp_maturities = [0.25, 0.5, 1.0]\n",
    "gbp_rates = [0.02, 0.022, 0.025]\n",
    "qf.ycCreate(\"GBP\", gbp_maturities, gbp_rates, 0)\n",
    "\n",
    "# === Step 2: Define Parameters ===\n",
    "payoff_type = 1           # 1 = call, -1 = put\n",
    "spot = 100.0              # Asset price in foreign currency\n",
    "strike = 95.0             # Strike in foreign currency\n",
    "time_to_exp = 1.0         # Maturity in years\n",
    "rd = 0.035                # Domestic rate (USD)\n",
    "rf = 0.025                # Foreign rate (GBP)\n",
    "q = 0.01                  # Dividend yield\n",
    "sigma_s = 0.20            # Asset volatility\n",
    "sigma_q = 0.15            # FX volatility\n",
    "rho = 0.5                 # Correlation\n",
    "\n",
    "# === Step 3: Analytical Pricing ===\n",
    "analytical_result = qf.qEuroBS(\n",
    "    payoff_type, spot, strike, time_to_exp,\n",
    "    rd, rf, q, sigma_s, sigma_q, rho\n",
    ")\n",
    "\n",
    "# === Step 4: Monte Carlo Parameters ===\n",
    "mc_params = {\n",
    "    \"PATHGENTYPE\": \"EULER\",\n",
    "    \"URNGTYPE\": \"MT19937\"\n",
    "}\n",
    "n_paths = 100000\n",
    "\n",
    "mc_result = qf.qEuroBSMC(\n",
    "    payofftype=payoff_type,\n",
    "    strike=strike,\n",
    "    timetoexp=time_to_exp,\n",
    "    spot=spot,\n",
    "    discountcrv=\"USD\",\n",
    "    growthcrv=\"GBP\",\n",
    "    divyield=q,\n",
    "    assetvol=sigma_s,\n",
    "    fxvol=sigma_q,\n",
    "    correl=rho,\n",
    "    mcparams=mc_params,\n",
    "    npaths=n_paths\n",
    ")\n",
    "\n",
    "# === Step 5: PDE Parameters ===\n",
    "pde_params = {\n",
    "    \"NTIMESTEPS\": 100,\n",
    "    \"NSPOTNODES\": 200,\n",
    "    \"NSTDDEVS\": 5.0,\n",
    "    \"THETA\": 0.5\n",
    "}\n",
    "\n",
    "pde_result = qf.qEuroBSPDE(\n",
    "    payoff_type, strike, time_to_exp, spot,\n",
    "    \"USD\", \"GBP\", q,\n",
    "    sigma_s, sigma_q, rho,\n",
    "    pde_params,\n",
    "    allresults=False\n",
    ")\n",
    "\n",
    "# === Step 6: Display Comparison ===\n",
    "print(\"\\n--- European Quanto Call Option Comparison ---\")\n",
    "print(f\"Spot: {spot}, Strike: {strike}, T: {time_to_exp} yr\")\n",
    "print(f\"Domestic rate (rd): {rd:.4f}, Foreign rate (rf): {rf:.4f}\")\n",
    "print(f\"Dividend yield: {q:.4f}\")\n",
    "print(f\"Asset Vol: {sigma_s:.2%}, FX Vol: {sigma_q:.2%}, Corr: {rho:.2f}\")\n",
    "print(\"-------------------------------------------------\")\n",
    "print(f\"Analytical Price : {analytical_result[0]:.6f}\")\n",
    "print(f\"Monte Carlo Mean : {mc_result['Mean']:.6f}\")\n",
    "print(f\"Monte Carlo StdErr: {mc_result['StdErr']:.6f}\")\n",
    "print(f\"PDE Price         : {pde_result['Price']:.6f}\")\n"
   ]
  },
  {
   "cell_type": "code",
   "execution_count": null,
   "id": "e70f4186",
   "metadata": {},
   "outputs": [],
   "source": []
  }
 ],
 "metadata": {
  "kernelspec": {
   "display_name": "qfgb",
   "language": "python",
   "name": "python3"
  },
  "language_info": {
   "codemirror_mode": {
    "name": "ipython",
    "version": 3
   },
   "file_extension": ".py",
   "mimetype": "text/x-python",
   "name": "python",
   "nbconvert_exporter": "python",
   "pygments_lexer": "ipython3",
   "version": "3.12.9"
  }
 },
 "nbformat": 4,
 "nbformat_minor": 5
}
